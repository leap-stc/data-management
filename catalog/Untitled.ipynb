{
 "cells": [
  {
   "cell_type": "code",
   "execution_count": 1,
   "id": "c789937f-e796-402b-9f25-eb2c197125a4",
   "metadata": {},
   "outputs": [],
   "source": [
    "from schema import Feedstock\n",
    "import upath\n",
    "import yaml"
   ]
  },
  {
   "cell_type": "code",
   "execution_count": 2,
   "id": "c92a68ee-75e5-443c-9034-af4183da52ec",
   "metadata": {},
   "outputs": [
    {
     "data": {
      "text/plain": [
       "{'ncviewjs:meta_yaml_url': 'https://github.com/pangeo-forge/HadISST-feedstock/blob/main/feedstock/meta.yaml',\n",
       " 'tags': ['climate', 'oceanography', 'sea surface temperature', 'zarr'],\n",
       " 'stores': [{'name': 'hadisst.zarr',\n",
       "   'url': 'https://ncsa.osn.xsede.org/Pangeo/pangeo-forge/HadISST-feedstock/hadisst.zarr'}]}"
      ]
     },
     "execution_count": 2,
     "metadata": {},
     "output_type": "execute_result"
    }
   ],
   "source": [
    "content = yaml.load(upath.UPath('./leap-ingested/HadISST.yaml').read_text(), yaml.FullLoader)\n",
    "content"
   ]
  },
  {
   "cell_type": "code",
   "execution_count": 3,
   "id": "209c45d1-1509-4df9-a4b6-8c7859841d2c",
   "metadata": {},
   "outputs": [
    {
     "data": {
      "text/plain": [
       "Feedstock(title='Hadley Centre Sea Ice and Sea Surface Temperature (HadISST)', description='Analysis-ready Zarr datasets derived from HadISST NetCDF', maintainers=[Maintainer(name='Julius Busecke', github='jbusecke')], provenance=Provenance(providers=[Provider(name='Met Office Hadley Centre', description='Met Office Hadley Centre', roles=['producer', 'licensor'], url='https://www.metoffice.gov.uk/hadobs/hadisst/index.html')], license='proprietary', license_link=LicenseLink(title='UK Non-Commercial Government License', url='https://www.nationalarchives.gov.uk/doc/non-commercial-government-licence/version/2/')), thumbnail=None, tags=['climate', 'oceanography', 'sea surface temperature', 'zarr'], links=None, stores=[Store(name='hadisst.zarr', url='https://ncsa.osn.xsede.org/Pangeo/pangeo-forge/HadISST-feedstock/hadisst.zarr', rechunking=None)], meta_yaml_url=Url('https://github.com/pangeo-forge/HadISST-feedstock/blob/main/feedstock/meta.yaml'))"
      ]
     },
     "execution_count": 3,
     "metadata": {},
     "output_type": "execute_result"
    }
   ],
   "source": [
    "Feedstock.from_yaml('./leap-ingested/HadISST.yaml')"
   ]
  },
  {
   "cell_type": "code",
   "execution_count": 4,
   "id": "0e5acdca-7f45-445e-b33c-d2d818f2d25f",
   "metadata": {},
   "outputs": [
    {
     "data": {
      "text/plain": [
       "Feedstock(title='Sea-surface altimetry data from The Copernicus Marine Environment', description='This dataset was moved from the legacy pangeo catalog.', maintainers=[Maintainer(name='Julius Busecke', github='jbusecke')], provenance=Provenance(providers=[Provider(name='Pangeo', description=None, roles=None, url='https://pangeo.io/')], license='proprietary', license_link=LicenseLink(title='unknown', url='http://marine.copernicus.eu/web/27-service-commitments-and-licence.php')), thumbnail=Url('https://www.aviso.altimetry.fr/fileadmin/_processed_/0/0/csm_glob_da7c0c3eaf.jpg'), tags=['ocean', 'satellite'], links=[Link(label='Data Source (not original source)', url='https://catalog.pangeo.io/browse/master/ocean/sea_surface_height/'), Link(label='Original Documentation (not available anymore)', url='https://data.marine.copernicus.eu/product/SEALEVEL_GLO_PHY_L4_REP_OBSERVATIONS_008_047/description')], stores=[Store(name='AVISO (Pangeo Legacy copy)', url='https://ncsa.osn.xsede.org/Pangeo/pangeo-cmems-duacs', rechunking=None)], meta_yaml_url=None)"
      ]
     },
     "execution_count": 4,
     "metadata": {},
     "output_type": "execute_result"
    }
   ],
   "source": [
    "Feedstock.from_yaml('./leap-ingested/aviso.yaml')"
   ]
  },
  {
   "cell_type": "code",
   "execution_count": 5,
   "id": "fc4d12b0-ea00-4339-aa33-daaae66079de",
   "metadata": {},
   "outputs": [
    {
     "data": {
      "text/plain": [
       "Feedstock(title='Large ensemble pCO2 testbed', description='Large ensemble pCO2 testbed (manually ingested)', maintainers=[Maintainer(name='Julius Busecke', github='jbusecke')], provenance=Provenance(providers=[Provider(name='CESM', description='Community Earth System Model', roles=None, url='https://www.cesm.ucar.edu/models'), Provider(name='CanESM2', description='Canadian Earth System Model 2', roles=None, url='https://www.canada.ca/en/environment-climate-change/services/climate-change/science-research-data/modeling-projections-analysis/centre-modelling-analysis/models/second-generation-earth-system-model.html'), Provider(name='GFDL', description='Geophysical Fluid Dynamics Laboratory', roles=None, url='https://www.gfdl.noaa.gov/')], license='CC-BY', license_link=None), thumbnail=None, tags=['climate', 'oceanography', 'pco2', 'carbon', 'zarr'], links=None, stores=[Store(name='CESM.zarr', url='gs://leap-persistent-ro/data-library-manual/CESM.zarr', rechunking=None), Store(name='CanESM2.zarr', url='gs://leap-persistent-ro/data-library-manual/CanESM2.zarr', rechunking=None), Store(name='GFDL.zarr', url='gs://leap-persistent-ro/data-library-manual/GFDL.zarr', rechunking=None)], meta_yaml_url=None)"
      ]
     },
     "execution_count": 5,
     "metadata": {},
     "output_type": "execute_result"
    }
   ],
   "source": [
    "Feedstock.from_yaml('./leap-ingested/large_ensemble_pco2_testbed.yaml')"
   ]
  },
  {
   "cell_type": "code",
   "execution_count": null,
   "id": "c95079cf-0f2b-46db-9612-db9da1e1cf62",
   "metadata": {},
   "outputs": [],
   "source": []
  }
 ],
 "metadata": {
  "kernelspec": {
   "display_name": "Python 3 (ipykernel)",
   "language": "python",
   "name": "python3"
  },
  "language_info": {
   "codemirror_mode": {
    "name": "ipython",
    "version": 3
   },
   "file_extension": ".py",
   "mimetype": "text/x-python",
   "name": "python",
   "nbconvert_exporter": "python",
   "pygments_lexer": "ipython3",
   "version": "3.12.2"
  }
 },
 "nbformat": 4,
 "nbformat_minor": 5
}
