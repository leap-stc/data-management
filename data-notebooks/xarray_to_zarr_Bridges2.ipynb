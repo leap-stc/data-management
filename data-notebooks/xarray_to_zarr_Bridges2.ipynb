{
 "cells": [
  {
   "cell_type": "markdown",
   "id": "45589bb7-42ed-407e-b756-2878e7a6381d",
   "metadata": {},
   "source": [
    "# Example: Uploading an xarray dataset to zarr\n",
    "\n",
    "This notebook explains the basic steps needed to upload a small to moderatly sized dataset manually to the [persistent cloud bucket](https://infrastructure.2i2c.org/en/latest/topic/features.html?highlight=persistent%20bucket#persistent-buckets-on-object-storage) for LEAP.\n",
    "\n",
    "You will learn the following things:\n",
    "\n",
    "- How to upload an xarray Dataset into a cloud bucket using the zarr format\n",
    "- How to share the url and enable other LEAP users to access the data from within the Jupyterhub\n",
    "- How to delete data from the cloud bucket\n",
    "\n",
    "<div class=\"admonition note\" name=\"html-admonition\" style=\"background: pink; padding: 5px\">\n",
    "<p class=\"title\">Warning:🚨 Before you start!\n",
    "    \n",
    "Storing large amounts of data in the persistent cloud bucket can <b>dramatically increase</b> cost for the whole project.\n",
    "Please be mindful of this community resource by following these rules:\n",
    "<ul>\n",
    "    <li>Make sure that your data is backed up in a second location, the cloud storage is meant for easy collaboration and analysis not as a permanent archive</li>\n",
    "    <li>Discuss adding data over a few GBs with the Data and Computation Manager Julius Busecke (Slack:<it> @Julius Busecke</it>, 📧: julius@ldeo.columbia.edu)</li>\n",
    "    <li>Delete data immeatly when it is not needed anymore</li>\n",
    "</ul>\n",
    "</p>\n",
    "</div>"
   ]
  },
  {
   "cell_type": "markdown",
   "id": "a22dcebc-65c9-4fe3-a5f6-90ac83ba737a",
   "metadata": {},
   "source": [
    "# Importing packages"
   ]
  },
  {
   "cell_type": "code",
   "execution_count": 1,
   "id": "87bc599c-40b1-47e7-ad37-84ebd302b549",
   "metadata": {
    "tags": []
   },
   "outputs": [],
   "source": [
    "import os\n",
    "\n",
    "import gcsfs\n",
    "import xarray as xr\n",
    "from dask.diagnostics import ProgressBar\n",
    "from google.oauth2.credentials import Credentials"
   ]
  },
  {
   "cell_type": "markdown",
   "id": "d963296c-fa49-49e7-bf9d-9bd812ff1e6d",
   "metadata": {},
   "source": [
    "# Creating functions and defining local filepaths"
   ]
  },
  {
   "cell_type": "code",
   "execution_count": 2,
   "id": "51c95c02-3246-4b30-901b-53d6c46f83bc",
   "metadata": {
    "tags": []
   },
   "outputs": [],
   "source": [
    "# local filepath\n",
    "\n",
    "data_path_local = '/ocean/projects/atm200007p/jlin96/longSPrun_o3/'\n",
    "\n",
    "# functions for loading in data\n",
    "\n",
    "\n",
    "def ls(data_path=''):\n",
    "    return os.popen(' '.join(['ls', data_path])).read().splitlines()\n",
    "\n",
    "\n",
    "def get_filenames(month, year, data_path):\n",
    "    filenames = ls(data_path)\n",
    "    month = str(month).zfill(2)\n",
    "    year = str(year).zfill(4)\n",
    "    filenames = [data_path + x for x in filenames if 'h1.' + year + '-' + month in x]\n",
    "    return filenames"
   ]
  },
  {
   "cell_type": "markdown",
   "id": "d4bd8a5a-3d22-4dbd-9ec0-0b2050cf693e",
   "metadata": {},
   "source": [
    "# Load data in locally"
   ]
  },
  {
   "cell_type": "code",
   "execution_count": 3,
   "id": "7d537c19-50fd-4daf-98b9-570f7a155a64",
   "metadata": {
    "tags": []
   },
   "outputs": [],
   "source": [
    "# getting the filenames in a single list\n",
    "\n",
    "filenames = []\n",
    "for i in range(11):\n",
    "    filenames = filenames + get_filenames(month=i + 2, year=0, data_path=data_path_local)\n",
    "for i in range(12):\n",
    "    filenames = filenames + get_filenames(month=i + 1, year=1, data_path=data_path_local)"
   ]
  },
  {
   "cell_type": "code",
   "execution_count": 4,
   "id": "bff2d2a0-e26c-43ac-8e5d-294bb207bc34",
   "metadata": {
    "tags": []
   },
   "outputs": [],
   "source": [
    "# loading in the data\n",
    "\n",
    "spData = xr.open_mfdataset(filenames, compat='override', join='override', coords='minimal')"
   ]
  },
  {
   "cell_type": "code",
   "execution_count": 5,
   "id": "cd3d28bc-48c9-4ffc-bae0-25bc533f3494",
   "metadata": {
    "tags": []
   },
   "outputs": [
    {
     "data": {
      "text/plain": [
       "371.678456584"
      ]
     },
     "execution_count": 5,
     "metadata": {},
     "output_type": "execute_result"
    }
   ],
   "source": [
    "# checking the size of the data\n",
    "\n",
    "spData.nbytes / 1e9"
   ]
  },
  {
   "cell_type": "code",
   "execution_count": null,
   "id": "ea08a71d-d30e-44a8-973e-fb28303a95b0",
   "metadata": {
    "tags": []
   },
   "outputs": [],
   "source": [
    "# splitting the data into two chunks for uploading\n",
    "\n",
    "spData1 = spData.isel(time=slice(0, 18000))\n",
    "spData2 = spData.isel(time=slice(18000, None))"
   ]
  },
  {
   "cell_type": "code",
   "execution_count": null,
   "id": "a4461383-b6ae-4903-8924-ae894d1fbb7b",
   "metadata": {},
   "outputs": [],
   "source": [
    "# # Unit test to check if file was saved correctly\n",
    "# checking = xr.open_dataset(\"spData_Bridges2.zarr\", engine=\"zarr\", decode_times = False)\n",
    "# print(spData == checking)\n",
    "# print(spData.identical(checking))"
   ]
  },
  {
   "cell_type": "markdown",
   "id": "b979a721-cbea-484b-bb9e-ddd83cd54058",
   "metadata": {},
   "source": [
    "# On leap.2i2c.cloud"
   ]
  },
  {
   "cell_type": "markdown",
   "id": "8989e4cd-511f-44a9-9502-f56d8dd39077",
   "metadata": {},
   "source": [
    "### Step 1\n",
    "Start an instance.\n",
    "### Step 2\n",
    "Open terminal.\n",
    "### Step 3\n",
    "Get a temporary token:\n",
    "\n",
    "- (On Jupyterhub) Install google-cloud-sdk on running server with  terminal command mamba install google-cloud-sdk\n",
    "- (On Jupyterhub) Generate token with gcloud auth print-access-token\n",
    "- (On HPC) Copy token into a textfile token.txt"
   ]
  },
  {
   "cell_type": "markdown",
   "id": "08198f4d-5388-4d71-b74f-a67362969374",
   "metadata": {},
   "source": [
    "# Upload data to LEAP"
   ]
  },
  {
   "cell_type": "markdown",
   "id": "aa547815-559c-4447-8ffa-2655f54ef51e",
   "metadata": {},
   "source": [
    "## Token 1"
   ]
  },
  {
   "cell_type": "code",
   "execution_count": null,
   "id": "221fc2af-f57a-47c2-b914-f2439880a868",
   "metadata": {},
   "outputs": [],
   "source": [
    "with open('token.txt') as f:\n",
    "    access_token = f.read().strip()\n",
    "\n",
    "# setup a storage client using credentials\n",
    "credentials = Credentials(access_token)"
   ]
  },
  {
   "cell_type": "code",
   "execution_count": null,
   "id": "f3df1957-40a2-4e8f-be29-88305a1defad",
   "metadata": {},
   "outputs": [],
   "source": [
    "fs = gcsfs.GCSFileSystem(token=credentials)\n",
    "mapper = fs.get_mapper('leap-persistent/jerrylin96/spData_Bridges2.zarr')\n",
    "with ProgressBar():\n",
    "    spData1.to_zarr(mapper, mode='w')"
   ]
  },
  {
   "cell_type": "markdown",
   "id": "16ede50d-85d6-45cc-a898-675edb22ac9b",
   "metadata": {},
   "source": [
    "## Token 2"
   ]
  },
  {
   "cell_type": "code",
   "execution_count": null,
   "id": "3e9d4526-962b-48e9-838a-0d65f9893197",
   "metadata": {},
   "outputs": [],
   "source": [
    "# REQUEST A BRAND NEW TOKEN BEFORE RUNNING THE NEW CELLS"
   ]
  },
  {
   "cell_type": "code",
   "execution_count": 7,
   "id": "d648b426-874f-4e55-a2c2-9fd9eacd9bb8",
   "metadata": {
    "tags": []
   },
   "outputs": [],
   "source": [
    "with open('token.txt') as f:\n",
    "    access_token = f.read().strip()\n",
    "\n",
    "# setup a storage client using credentials\n",
    "credentials = Credentials(access_token)"
   ]
  },
  {
   "cell_type": "code",
   "execution_count": 8,
   "id": "237e63f3-3858-4389-99e9-f3c0f0c5d113",
   "metadata": {
    "tags": []
   },
   "outputs": [
    {
     "name": "stdout",
     "output_type": "stream",
     "text": [
      "[########################################] | 100% Completed | 1.06 sms\n",
      "[########################################] | 100% Completed | 1.16 sms\n",
      "[                                        ] | 0% Completed | 26.64 sms"
     ]
    },
    {
     "name": "stderr",
     "output_type": "stream",
     "text": [
      "/jet/home/jlin96/.conda/envs/leapexample/lib/python3.10/site-packages/scipy/io/_netcdf.py:305: RuntimeWarning: Cannot close a netcdf_file opened with mmap=True, when netcdf_variables or arrays referring to its data still exist. All data arrays obtained from such files refer directly to data on disk, and must be copied before the file can be cleanly closed. (See netcdf_file docstring for more information on mmap.)\n",
      "  warnings.warn((\n"
     ]
    },
    {
     "name": "stdout",
     "output_type": "stream",
     "text": [
      "[########################################] | 100% Completed | 39m 47s\n"
     ]
    }
   ],
   "source": [
    "fs = gcsfs.GCSFileSystem(token=credentials)\n",
    "mapper = fs.get_mapper('leap-persistent/jerrylin96/spData_Bridges2.zarr')\n",
    "with ProgressBar():\n",
    "    spData2.to_zarr(mapper, mode='a', append_dim='time')"
   ]
  },
  {
   "cell_type": "code",
   "execution_count": null,
   "id": "8533ade9",
   "metadata": {},
   "outputs": [],
   "source": [
    "checking = xr.open_dataset('test_file.zarr', engine='zarr', decode_times=False)"
   ]
  },
  {
   "cell_type": "code",
   "execution_count": null,
   "id": "1a0b70ab",
   "metadata": {},
   "outputs": [],
   "source": [
    "spData == checking"
   ]
  }
 ],
 "metadata": {
  "kernelspec": {
   "display_name": "Python 3 (ipykernel)",
   "language": "python",
   "name": "python3"
  },
  "language_info": {
   "codemirror_mode": {
    "name": "ipython",
    "version": 3
   },
   "file_extension": ".py",
   "mimetype": "text/x-python",
   "name": "python",
   "nbconvert_exporter": "python",
   "pygments_lexer": "ipython3",
   "version": "3.8.5"
  }
 },
 "nbformat": 4,
 "nbformat_minor": 5
}
